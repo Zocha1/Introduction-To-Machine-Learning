{
  "nbformat": 4,
  "nbformat_minor": 0,
  "metadata": {
    "colab": {
      "provenance": [],
      "authorship_tag": "ABX9TyNc1Q0j80FHhKZ1p/IIVESp",
      "include_colab_link": true
    },
    "kernelspec": {
      "name": "python3",
      "display_name": "Python 3"
    },
    "language_info": {
      "name": "python"
    }
  },
  "cells": [
    {
      "cell_type": "markdown",
      "metadata": {
        "id": "view-in-github",
        "colab_type": "text"
      },
      "source": [
        "<a href=\"https://colab.research.google.com/github/Zocha1/Introduction-To-Machine-Learning/blob/main/5_ZADANIE_Przetwarzanie_tekstu.ipynb\" target=\"_parent\"><img src=\"https://colab.research.google.com/assets/colab-badge.svg\" alt=\"Open In Colab\"/></a>"
      ]
    },
    {
      "cell_type": "markdown",
      "source": [
        "##Zadanie 1:\n",
        "\n",
        "Na podstawie wykresów: *Straty trenowania i walidacji* oraz *Dokładności trenowania i walidacji* znajdź najbardziej optymalną liczbę **epok**, w której strata (**loss**) jest jak najniższa, a dokładność (**accuracy**) jak najwyżsa. Patrz na wynik:\n",
        "\n",
        "```\n",
        "# results = model.evaluate(x_test, y_test)\n",
        "```\n",
        " **Kolejne zadania wykonuj trenując model na znalezionej liczbie epok.**\n",
        "\n",
        "##Zadanie 2:\n",
        "\n",
        "Dodaj jedną, dwie, kilka warst ukrytych - *Dense*. Zmieniaj liczbę jednostek warstw na 32, 64. Próbuj różnych kombinacji i obserwuj jak wpłyną one na dokładności walidacji i testu. Przykład:\n",
        "\n",
        "\n",
        "```\n",
        "# model.add(layers.Dense(32, activation='relu', input_shape=(10000,)))\n",
        "# model.add(layers.Dense(16, activation='relu'))\n",
        "# model.add(layers.Dense(16, activation='relu'))\n",
        "# model.add(layers.Dense(1, activation='sigmoid'))\n",
        "```\n",
        "\n",
        "\n",
        "\n",
        "##Zadanie 3:\n",
        "\n",
        "Zmień funkcję straty **binary_crossentropy** na funkcję straty **mse**. Następnie zmień funkcję aktywacji **relu** na funkcję aktywacji **tanh**. Próbuj różnych kombinacji i obserwuj jak wpłyną one na dokładności walidacji i testu.\n",
        "```\n",
        "# loss='mse'\n",
        "```\n",
        "```\n",
        "# activation='tanh'\n",
        "```\n",
        "\n",
        "##Zadanie 4:\n",
        "\n",
        "Wykorzystaj wszystkie wcześniejsze zmiany i spróbuj dostosować model tak, aby był jak najbardziej optymalny."
      ],
      "metadata": {
        "id": "DC9g2I5j7uBr"
      }
    },
    {
      "cell_type": "markdown",
      "source": [
        "## Zrealizuj zadania na poniższym kodzie, możesz modyfikować go dowoli."
      ],
      "metadata": {
        "id": "teUjOYYF01uY"
      }
    },
    {
      "cell_type": "code",
      "execution_count": null,
      "metadata": {
        "id": "DPzZ280RwuT6"
      },
      "outputs": [],
      "source": [
        "from keras.datasets import imdb\n",
        "\n",
        "(train_data, train_labels), (test_data, test_labels) = imdb.load_data(num_words=10000)\n"
      ]
    },
    {
      "cell_type": "code",
      "source": [
        "import numpy as np\n",
        "\n",
        "def vectorize_sequences(sequences, dimension = 10000):\n",
        "  results = np.zeros((len(sequences), dimension))\n",
        "  for i, sequence in enumerate(sequences):\n",
        "    results[i, sequence] = 1.\n",
        "  return results\n",
        "\n",
        "x_train = vectorize_sequences(train_data)\n",
        "x_test = vectorize_sequences(test_data)"
      ],
      "metadata": {
        "id": "Fb0rjEfg8T36"
      },
      "execution_count": null,
      "outputs": []
    },
    {
      "cell_type": "code",
      "source": [
        "y_train = np.asarray(train_labels).astype('float32')\n",
        "y_test = np.asarray(test_labels).astype('float32')"
      ],
      "metadata": {
        "id": "Zxb1Mdtc-PMU"
      },
      "execution_count": null,
      "outputs": []
    },
    {
      "cell_type": "code",
      "source": [
        "from keras import models\n",
        "from keras import layers\n",
        "\n",
        "model = models.Sequential()\n",
        "model.add(layers.Dense(16, activation='relu', input_shape=(10000,)))\n",
        "model.add(layers.Dense(16, activation='relu'))\n",
        "model.add(layers.Dense(1, activation='sigmoid'))\n",
        "\n",
        "\n",
        "model.compile(optimizer='rmsprop',\n",
        "              loss='binary_crossentropy',\n",
        "              metrics=['accuracy'])\n",
        "\n",
        "\n",
        "x_val = x_train[:10000]\n",
        "partial_x_train = x_train[10000:]\n",
        "\n",
        "y_val = y_train[:10000]\n",
        "partial_y_train = y_train[10000:]\n",
        "\n",
        "\n",
        "history = model.fit(partial_x_train,\n",
        "                    partial_y_train,\n",
        "                    epochs=20,\n",
        "                    batch_size=512,\n",
        "                    validation_data=(x_val, y_val))"
      ],
      "metadata": {
        "id": "Xwn8dPvp3jex"
      },
      "execution_count": null,
      "outputs": []
    },
    {
      "cell_type": "code",
      "source": [
        "results = model.evaluate(x_test, y_test)"
      ],
      "metadata": {
        "id": "LxAP-_HJBXQP"
      },
      "execution_count": null,
      "outputs": []
    },
    {
      "cell_type": "code",
      "source": [
        "history_dict = history.history\n",
        "history_dict.keys()"
      ],
      "metadata": {
        "id": "-ZkOzyCwBNTN"
      },
      "execution_count": null,
      "outputs": []
    },
    {
      "cell_type": "code",
      "source": [
        "import matplotlib.pyplot as plt\n",
        "\n",
        "loss_values = history_dict['loss']\n",
        "val_loss_values = history_dict['val_loss']\n",
        "\n",
        "epochs = range(1, len(loss_values) + 1)\n",
        "\n",
        "plt.plot(epochs, loss_values, 'bo', label='Strata trenowania')\n",
        "plt.plot(epochs, val_loss_values, 'b', label='Strata walidacji')\n",
        "plt.title('Strata trenowania i walidacji')\n",
        "plt.xlabel('Epoki')\n",
        "plt.ylabel('Strata')\n",
        "plt.legend()\n",
        "\n",
        "plt.show()"
      ],
      "metadata": {
        "id": "kAobGd0XJAsR"
      },
      "execution_count": null,
      "outputs": []
    },
    {
      "cell_type": "code",
      "source": [
        "plt.clf()\n",
        "\n",
        "acc_values = history_dict['acc']\n",
        "val_acc_values = history_dict['val_acc']\n",
        "\n",
        "plt.plot(epochs, acc_values, 'bo', label='Dokładność trenowania')\n",
        "plt.plot(epochs, val_acc_values, 'b', label='Dokładność walidacji')\n",
        "plt.title('Dokładność trenowania i walidacji')\n",
        "plt.xlabel('Epoki')\n",
        "plt.ylabel('Dokładność')\n",
        "plt.legend()\n",
        "\n",
        "plt.show()"
      ],
      "metadata": {
        "id": "-s3Hn6SqKzXe"
      },
      "execution_count": null,
      "outputs": []
    }
  ]
}