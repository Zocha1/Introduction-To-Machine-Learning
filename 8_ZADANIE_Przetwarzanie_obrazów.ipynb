{
  "nbformat": 4,
  "nbformat_minor": 0,
  "metadata": {
    "colab": {
      "provenance": [],
      "authorship_tag": "ABX9TyOnW2L5Y/9wexCnQBcv5BZG",
      "include_colab_link": true
    },
    "kernelspec": {
      "name": "python3",
      "display_name": "Python 3"
    },
    "language_info": {
      "name": "python"
    }
  },
  "cells": [
    {
      "cell_type": "markdown",
      "metadata": {
        "id": "view-in-github",
        "colab_type": "text"
      },
      "source": [
        "<a href=\"https://colab.research.google.com/github/Zocha1/Introduction-To-Machine-Learning/blob/main/8_ZADANIE_Przetwarzanie_obraz%C3%B3w.ipynb\" target=\"_parent\"><img src=\"https://colab.research.google.com/assets/colab-badge.svg\" alt=\"Open In Colab\"/></a>"
      ]
    },
    {
      "cell_type": "markdown",
      "source": [
        "#**Zadanie**\n",
        "##Własny model sieci konwolucyjnej\n",
        "Uzupełnij poniższy kod i stwórz swoją pierwszą sieć konwolucyjną\n",
        "\n",
        "Używamy tutaj zbioru danych MNIST dołączonego do biblioteki Keras. Zbiór MNIST jest bazą danych zawierającą ręcznie pisane cyfry (co daje klasyfikację do 10 klas). Zadaniem modelu będzie rozróżnianie tych cyfr."
      ],
      "metadata": {
        "id": "eBU6re4IGYhr"
      }
    },
    {
      "cell_type": "markdown",
      "source": [
        "###**Etap 1** Budowanie modelu\n"
      ],
      "metadata": {
        "id": "fv7S6rPoZNxR"
      }
    },
    {
      "cell_type": "markdown",
      "source": [
        "Stwórz model sekwencyjny i zaprojektuj sieć konwolucyjną. Będziemy potrzebować 3 warstw konwolucyjnych **Conv2D()**. Pierwsza z nich powinna mieć głębię wyjścia równą **32**, natomiast dwie następne **64**. Wymiary okna powinny mieć tradycyjnie wymiary **3x3**. W pierwszej warstwie musimy dodać kształt danych wejściowych, które są trójwymiarowym wektorem o wymiarach **(28, 28, 1)**. Pomiędzy tymi warstwami należy dodać warstwy poolingowe **MaxPooling()** o wymiarach okna **2x2**.  \n",
        "\n",
        "\n",
        " ```\n",
        " Conv2D(głębia_wyjścia, (szerokość_okna, wysokość_okna), funkcja_aktywacyjna, input_shape=(wymiary))\n",
        " ```\n",
        "\n",
        " ```\n",
        " MaxPooling(szerokość_okna, wysokość_okna)\n",
        " ```\n",
        "\n",
        " Następnie dodaj warstwę spłaszczającą **Flatten()**\n",
        " ```\n",
        " Flatten()\n",
        "```\n",
        "Na koniec dodaj dwie warstwy **Dense**.\n",
        "Liczba ukrytych jednostek w pierwszej warstwie musi **zgadzać się z głębią wyjścia** ostatniej warstwy konwolucyjnej oraz ma używać funkcji **relu**. Ostatnia warstwa ma za zadanie klasyfikowanie danych do odpowiednich klas, dlatego liczba jednostek ukrytych musi **się zgadzać z liczbą klas** (patrz polecenie). W ostatniej warstwie użyjemy funkcji aktywacyjnej **softmax**.\n",
        "\n",
        "```\n",
        "Dense(liczba_jednostek_ukrytych , funkcja_aktywacyjna)\n",
        " ```"
      ],
      "metadata": {
        "id": "-P7RNL19wp86"
      }
    },
    {
      "cell_type": "code",
      "source": [
        "#@title Budujemy sieć\n",
        "from keras import models\n",
        "from keras import layers\n",
        "from keras.models import Sequential\n",
        "from keras.datasets import mnist\n",
        "from keras.utils import to_categorical\n",
        "\n",
        "model = #tutaj zbuduj model sieci konwulcyjnej\n",
        "\n",
        "model.summary()"
      ],
      "metadata": {
        "id": "4swkqx9AXTlx"
      },
      "execution_count": null,
      "outputs": []
    },
    {
      "cell_type": "markdown",
      "source": [
        "###**Etap 2** Kompilacja modelu"
      ],
      "metadata": {
        "id": "1VQpGniqH1yQ"
      }
    },
    {
      "cell_type": "markdown",
      "source": [
        "Teraz należy skompilować model. Służy do tego polecenie **comiple()** z użyciem  optymalizatora **rmsprop**, funkcji straty **categorical_crossentropy** oraz metryki **accuracy**, aby śledzić dokładność.\n",
        "\n",
        "\n",
        "```\n",
        " compile(optimizer='...', loss='...', metrics=['...'])\n",
        "```\n",
        "\n",
        "\n"
      ],
      "metadata": {
        "id": "GOEZONEcJcDq"
      }
    },
    {
      "cell_type": "code",
      "source": [
        "#@title Kompilacja i trenowanie modelu\n",
        "\n",
        "#tutaj skompiluj swój model\n",
        "\n"
      ],
      "metadata": {
        "id": "c8d1GFrGLqtc"
      },
      "execution_count": null,
      "outputs": []
    },
    {
      "cell_type": "markdown",
      "source": [
        "###**Etap 3** Przygotowanie danych"
      ],
      "metadata": {
        "id": "VwG2dfnYwDAC"
      }
    },
    {
      "cell_type": "markdown",
      "source": [
        "W gotowym kodzie został załadowany dataset MNIST. Waszym zadaniem jest przygotować dane do trenowania i testowania oraz zakodować etykiety.\n",
        "Tym razem nie musimy używać generatorów, ponieważ używany zestaw danych jest prostszy i nie wymaga augumentacji. Z przygotowaniem danych poradzimy sobie w inny sposób.\n",
        "\n",
        "Pierwszym krokiem jest przekształcenie danych do **rozmiarów przyjętych przez sieć konwulcyjną** (patrz: pierwsza warstwa sieci). Chcemy aby obrazów do trenowania było **60000**, a do testowania **10000**. Obrazy w bazie MNIST są w skali szarości, dlatego oś głębi musi być równa **1**. Przekształcenie wykonujemy poleceniem **reshape()**.\n",
        "\n",
        "```\n",
        "reshape(ilość_obrazów, wysokość_obrazu, szerokość_obrazu, oś_głębi)\n",
        "```\n",
        "\n",
        "Następnie musimy znormalizować dane do zakresu [0,1], konwertując je na **typ float32 i dzieląc przez 255**. Wykonujemy to poleceniem **astype()**.\n",
        "\n",
        "```\n",
        "astype('typ_danych')\n",
        "```\n",
        "\n",
        "Na koniec kodujemy etykiety (labels) przy pomocy polecenia **to_categorical()**.\n",
        "\n",
        "```\n",
        "to_categorical(zmienna_przechowująca_etykiety)\n",
        "```"
      ],
      "metadata": {
        "id": "rTjp4oCFw6im"
      }
    },
    {
      "cell_type": "code",
      "source": [
        "#@title Przygotowanie danych\n",
        "(train_images, train_labels), (test_images, test_labels) = mnist.load_data()\n",
        "\n",
        "#tutaj przygotuj swoje dane\n",
        "\n"
      ],
      "metadata": {
        "id": "_jW9wVTywEB_",
        "outputId": "96507c65-e446-47cc-9c11-fbe6c6adc25c",
        "colab": {
          "base_uri": "https://localhost:8080/"
        }
      },
      "execution_count": null,
      "outputs": [
        {
          "output_type": "stream",
          "name": "stdout",
          "text": [
            "Downloading data from https://storage.googleapis.com/tensorflow/tf-keras-datasets/mnist.npz\n",
            "11490434/11490434 [==============================] - 0s 0us/step\n"
          ]
        }
      ]
    },
    {
      "cell_type": "markdown",
      "source": [
        "### **Etap 4** Trenowanie modelu\n"
      ],
      "metadata": {
        "id": "6nR85Nzl7QrH"
      }
    },
    {
      "cell_type": "markdown",
      "source": [
        "Wytrenuj swój model używając polecenia **fit()**. Wybierz obrazy oraz etykiety do trenowania, określ **liczbę epok** (np. 5) oraz **rozmiar partii** określającej ile próbek będzie przetwarzanych przed aktualizacją modelu (np. 64).\n",
        "\n",
        "```\n",
        "fit(dane_do_trenowania, etykiety_do_trenowania, epochs=..., batch_size=...)\n",
        "```\n"
      ],
      "metadata": {
        "id": "W0ovdNgx7koq"
      }
    },
    {
      "cell_type": "code",
      "source": [
        "#@title Trenowanie modelu\n",
        "\n",
        "#tutaj wytrenuj model"
      ],
      "metadata": {
        "id": "GBV8EwSU7mpY"
      },
      "execution_count": null,
      "outputs": []
    },
    {
      "cell_type": "markdown",
      "source": [
        "###**Etap 5** Ewaluacja modelu\n"
      ],
      "metadata": {
        "id": "tvN9VkW7Zxfc"
      }
    },
    {
      "cell_type": "markdown",
      "source": [
        "Na koniec obliczamy **dokładność** oraz **straty** modelu używając polecenia **evaluate()**.\n",
        "```\n",
        "evaluate(dane_do_testowania, etykiety_do_testowania)\n",
        "```\n",
        "\n"
      ],
      "metadata": {
        "id": "06T_4DPjZzgb"
      }
    },
    {
      "cell_type": "code",
      "source": [
        "#@title Ewaluacja modelu\n",
        "test_loss, test_acc =  #tutaj przeprowadź ewaluację modelu\n",
        "\n",
        "print(\"Test loss: \", test_loss)\n",
        "print(\"Test accuracy: \", test_acc)"
      ],
      "metadata": {
        "id": "Fc0PKvjQcQ6V"
      },
      "execution_count": null,
      "outputs": []
    }
  ]
}