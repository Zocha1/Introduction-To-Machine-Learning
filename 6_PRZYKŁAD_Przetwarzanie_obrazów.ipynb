{
  "cells": [
    {
      "cell_type": "markdown",
      "metadata": {
        "id": "view-in-github",
        "colab_type": "text"
      },
      "source": [
        "<a href=\"https://colab.research.google.com/github/Zocha1/Introduction-To-Machine-Learning/blob/main/6_PRZYK%C5%81AD_Przetwarzanie_obraz%C3%B3w.ipynb\" target=\"_parent\"><img src=\"https://colab.research.google.com/assets/colab-badge.svg\" alt=\"Open In Colab\"/></a>"
      ]
    },
    {
      "cell_type": "markdown",
      "source": [
        "#Przykładowa sieć konwolucyjna\n",
        "Zbudowany model ma za zadanie odróżniać psa od kota na zdjęciach."
      ],
      "metadata": {
        "id": "GPtjo5j_PaK6"
      }
    },
    {
      "cell_type": "markdown",
      "source": [
        "##Etap 1 Budowanie modelu\n"
      ],
      "metadata": {
        "id": "A9N7uj0lPP0c"
      }
    },
    {
      "cell_type": "markdown",
      "source": [
        "Tworzymy model **sekwencyjny**. Oznacza to że, że model będzie składał się z sekwencji warstw, gdzie dane wejściowe przechodzą przez nie jedna po drugiej.\n",
        "\n",
        "Dodajemy warstwę **konwolucyjną**, która jest podstawą sieci konwolucyjnej. Ta warstwa przetwarza dane wejściowe (obrazy) za pomocą **32 filtrów** (lub \"jąder\") o rozmiarze 3x3 piksele. activation=\"relu\" oznacza **funkcję aktywacji ReLU**, która przekształca wartości ujemne na zero, a pozytywne pozostawia bez zmian. padding='same' oznacza, że na brzegach obrazu dodajemy padding (dopełnienie), aby rozmiar wyjścia był taki sam jak wejścia. input_shape=(100,100,3) określa kształt danych wejściowych: obrazy o rozmiarze 100x100 pikseli i 3 kanałach kolorów (RGB).\n",
        "\n",
        "Dodajemy warstwę **normalizacji wsadowej**, która normalizuje wyjście poprzedniej warstwy. Pomaga to w przyspieszeniu treningu i stabilizacji procesu uczenia się poprzez utrzymanie wartości wyjściowych warstw w małych zakresach.\n",
        "\n",
        "Dodajemy warstwę **Max Pooling** z oknem o rozmiarze 2x2 piksele, która redukuje wymiary danych przestrzennych, biorąc maksimum z każdego okna 2x2. Działa to na zasadzie przestrzennego próbkowania, zmniejszając liczbę parametrów i pomagając w zapobieganiu nadmiernemu dopasowaniu.\n",
        "\n",
        "Dodajemy kolejną warstwę konwolucyjną z 64 filtrami, która będzie uczyć się bardziej skomplikowanych cech z danych, które zostały przekształcone przez poprzednie warstwy.\n",
        "\n",
        "Ponawiamy dodanie warstwy normalizacji wsadowej oraz Max Pooling, tak jak wyżej.\n",
        "\n",
        "I znów, dodajemy kolejne warstwy konwolucyjne, normalizacji wsadowej i Max Pooling, ale tym razem z 128 filtrami, co pozwala modelowi uczyć się jeszcze bardziej złożonych cech.\n",
        "\n",
        "Powtarzamy proces, tym razem z 256 filtrami, co jest kontynuacją budowania hierarchii coraz bardziej złożonych cech.\n",
        "\n",
        "Zamiast spłaszczać wszystkie mapy cech do jednego długiego wektora (co robi typowa warstwa Flatten), warstwa **GlobalAveragePooling2D** bierze średnią z każdej mapy cech, redukując w ten sposób liczbę parametrów i pomagając w zapobieganiu nadmiernemu dopasowaniu.\n",
        "\n",
        "Dodajemy warstwę **Dropout** z prawdopodobieństwem 0.5, co oznacza, że w czasie treningu losowo \"wyłączamy\" połowę neuronów, co pomaga również w zapobieganiu nadmiernemu dopasowaniu.\n",
        "\n",
        "Dodajemy w pełni połączoną **Dense** warstwę z 128 neuronami, co pozwala sieci na nauczenie się zależności między cechami wyekstrahowanymi przez warstwy konwolucyjne.\n",
        "\n",
        "Dodajemy ostateczną w pełni połączoną warstwę z **2 neuronami** (jeden dla każdej klasy: koty i psy) i funkcją aktywacji softmax, która przypisuje prawdopodobieństwa do każdej z klas, umożliwiając klasyfikację.\n",
        "\n",
        "Na koniec wywołujemy funkcję summary na modelu, która wypisuje podsumowanie architektury modelu, wyświetlając każdą warstwę, jej wyjście i liczbę parametrów."
      ],
      "metadata": {
        "id": "z_4V0SmEUE5T"
      }
    },
    {
      "cell_type": "code",
      "execution_count": 15,
      "metadata": {
        "colab": {
          "base_uri": "https://localhost:8080/"
        },
        "id": "pn6lq8VrBTzx",
        "outputId": "480d9b3b-7b4b-4efd-8cfd-c6cc53b82171"
      },
      "outputs": [
        {
          "output_type": "stream",
          "name": "stdout",
          "text": [
            "Model: \"sequential\"\n",
            "_________________________________________________________________\n",
            " Layer (type)                Output Shape              Param #   \n",
            "=================================================================\n",
            " conv2d (Conv2D)             (None, 100, 100, 32)      896       \n",
            "                                                                 \n",
            " batch_normalization (Batch  (None, 100, 100, 32)      128       \n",
            " Normalization)                                                  \n",
            "                                                                 \n",
            " max_pooling2d (MaxPooling2  (None, 50, 50, 32)        0         \n",
            " D)                                                              \n",
            "                                                                 \n",
            " conv2d_1 (Conv2D)           (None, 50, 50, 64)        18496     \n",
            "                                                                 \n",
            " batch_normalization_1 (Bat  (None, 50, 50, 64)        256       \n",
            " chNormalization)                                                \n",
            "                                                                 \n",
            " max_pooling2d_1 (MaxPoolin  (None, 25, 25, 64)        0         \n",
            " g2D)                                                            \n",
            "                                                                 \n",
            " conv2d_2 (Conv2D)           (None, 25, 25, 128)       73856     \n",
            "                                                                 \n",
            " batch_normalization_2 (Bat  (None, 25, 25, 128)       512       \n",
            " chNormalization)                                                \n",
            "                                                                 \n",
            " max_pooling2d_2 (MaxPoolin  (None, 12, 12, 128)       0         \n",
            " g2D)                                                            \n",
            "                                                                 \n",
            " conv2d_3 (Conv2D)           (None, 12, 12, 256)       295168    \n",
            "                                                                 \n",
            " batch_normalization_3 (Bat  (None, 12, 12, 256)       1024      \n",
            " chNormalization)                                                \n",
            "                                                                 \n",
            " max_pooling2d_3 (MaxPoolin  (None, 6, 6, 256)         0         \n",
            " g2D)                                                            \n",
            "                                                                 \n",
            " global_average_pooling2d (  (None, 256)               0         \n",
            " GlobalAveragePooling2D)                                         \n",
            "                                                                 \n",
            " dropout (Dropout)           (None, 256)               0         \n",
            "                                                                 \n",
            " dense (Dense)               (None, 128)               32896     \n",
            "                                                                 \n",
            " dense_1 (Dense)             (None, 2)                 258       \n",
            "                                                                 \n",
            "=================================================================\n",
            "Total params: 423490 (1.62 MB)\n",
            "Trainable params: 422530 (1.61 MB)\n",
            "Non-trainable params: 960 (3.75 KB)\n",
            "_________________________________________________________________\n"
          ]
        }
      ],
      "source": [
        "#@title Building the model\n",
        "import numpy as np\n",
        "import matplotlib.pyplot as plt\n",
        "from google.colab import drive\n",
        "import os\n",
        "from keras.callbacks import EarlyStopping\n",
        "from keras.models import Sequential\n",
        "from keras.layers import Conv2D, MaxPooling2D, Dropout, Flatten, Dense, BatchNormalization, GlobalAveragePooling2D\n",
        "from keras.preprocessing.image import ImageDataGenerator, img_to_array, load_img\n",
        "\n",
        "train_path = '/content/trening'\n",
        "\n",
        "test_path =  '/content/testy'\n",
        "\n",
        "model = Sequential()\n",
        "model.add(Conv2D(32, (3, 3), activation=\"relu\", padding='same', input_shape=(100,100,3)))\n",
        "model.add(BatchNormalization())\n",
        "model.add(MaxPooling2D(2,2))\n",
        "\n",
        "model.add(Conv2D(64, (3, 3), activation=\"relu\", padding='same'))\n",
        "model.add(BatchNormalization())\n",
        "model.add(MaxPooling2D(2,2))\n",
        "\n",
        "model.add(Conv2D(128, (3, 3), activation=\"relu\", padding='same'))\n",
        "model.add(BatchNormalization())\n",
        "model.add(MaxPooling2D(2,2))\n",
        "\n",
        "model.add(Conv2D(256, (3, 3), activation=\"relu\", padding='same'))\n",
        "model.add(BatchNormalization())\n",
        "model.add(MaxPooling2D(2,2))\n",
        "\n",
        "model.add(GlobalAveragePooling2D())\n",
        "model.add(Dropout(0.5))\n",
        "model.add(Dense(128, activation=\"relu\"))\n",
        "model.add(Dense(2, activation=\"softmax\"))\n",
        "model.summary()"
      ]
    },
    {
      "cell_type": "markdown",
      "source": [
        "##Podział danych na treningowe i testowe (opcjonalne)\n"
      ],
      "metadata": {
        "id": "2UlfoGvhPx4I"
      }
    },
    {
      "cell_type": "markdown",
      "source": [
        "Tutaj został napisany skrypt dzielący gotowy dataset pobrany ze strony [Kaggle](https://www.kaggle.com/competitions/dogs-vs-cats) na foldery zaweierające dane do trenowania i do testowania. Jest to krok, którego my nie będziemy wykonywać, ponieważ zestaw MNIST jest już podzielony na te kategorie."
      ],
      "metadata": {
        "id": "Lw2J1eJmUK3B"
      }
    },
    {
      "cell_type": "code",
      "execution_count": null,
      "metadata": {
        "colab": {
          "base_uri": "https://localhost:8080/"
        },
        "id": "vNDowlKrHTY9",
        "outputId": "ef3540b5-9e91-4a06-e17a-e8bc2307fee1"
      },
      "outputs": [
        {
          "output_type": "stream",
          "name": "stdout",
          "text": [
            "Copied 10000 cat images to training data.\n",
            "Copied 2500 cat images to testing data.\n",
            "Copied 10000 dog images to training data.\n",
            "Copied 2500 dog images to testing data.\n"
          ]
        }
      ],
      "source": [
        "#@title Dividing files to train and tests\n",
        "import os\n",
        "import shutil\n",
        "from sklearn.model_selection import train_test_split\n",
        "\n",
        "# Załóżmy, że wszystkie twoje obrazy są w tym folderze\n",
        "all_images_dir = '/content/train/train'\n",
        "\n",
        "# Twój docelowy folder treningowy i testowy\n",
        "train_dir = '/content/trening'\n",
        "test_dir = '/content/testy'\n",
        "\n",
        "# Stwórz listy plików dla każdej klasy\n",
        "cat_files = [os.path.join(all_images_dir, f) for f in os.listdir(all_images_dir) if f.startswith('cat')]\n",
        "dog_files = [os.path.join(all_images_dir, f) for f in os.listdir(all_images_dir) if f.startswith('dog')]\n",
        "\n",
        "# Podziel dane na treningowe i testowe\n",
        "train_cats, test_cats = train_test_split(cat_files, test_size=0.2)\n",
        "train_dogs, test_dogs = train_test_split(dog_files, test_size=0.2)\n",
        "\n",
        "# Funkcja do kopiowania plików\n",
        "def copy_files(files, dest_dir):\n",
        "    os.makedirs(dest_dir, exist_ok=True)\n",
        "    for f in files:\n",
        "        shutil.copy(f, dest_dir)\n",
        "\n",
        "# Kopiowanie plików kotów\n",
        "copy_files(train_cats, os.path.join(train_dir, 'cats'))\n",
        "copy_files(test_cats, os.path.join(test_dir, 'cats'))\n",
        "\n",
        "# Kopiowanie plików psów\n",
        "copy_files(train_dogs, os.path.join(train_dir, 'dogs'))\n",
        "copy_files(test_dogs, os.path.join(test_dir, 'dogs'))\n",
        "\n",
        "print(f\"Copied {len(train_cats)} cat images to training data.\")\n",
        "print(f\"Copied {len(test_cats)} cat images to testing data.\")\n",
        "print(f\"Copied {len(train_dogs)} dog images to training data.\")\n",
        "print(f\"Copied {len(test_dogs)} dog images to testing data.\")\n",
        "\n"
      ]
    },
    {
      "cell_type": "markdown",
      "source": [
        "##Etap 2 Kompilacja modelu"
      ],
      "metadata": {
        "id": "DnBQ_7fqUtsB"
      }
    },
    {
      "cell_type": "markdown",
      "source": [
        "**Kompilacja** oznacza, że przygotowujemy model do treningu, określając kluczowe aspekty procesu uczenia się.\n",
        "\n",
        "- **loss=\"categorical_crossentropy\"**: to sposób, w jaki model mierzy, jak dobrze radzi sobie z zadaniem. \"Categorical crossentropy\" to funkcja straty używana w zadaniach klasyfikacji, gdzie model musi wybrać jedną z kilku kategorii (np. czy obraz przedstawia kota czy psa). Funkcja ta sprawdza, jak przewidywania modelu zgadzają się z rzeczywistymi etykietami i stara się je zminimalizować w trakcie treningu.\n",
        "\n",
        "- **optimizer=\"Adam\"**: to metoda, która modyfikuje wagi modelu w celu zminimalizowania funkcji straty. \"Adam\" jest popularnym optymalizatorem, ponieważ jest skuteczny w różnych sytuacjach i automatycznie dostosowuje prędkość uczenia się modelu.\n",
        "\n",
        "- **metrics=[\"accuracy\"]**: to kryteria, za pomocą których będziemy oceniać wydajność modelu. W tym przypadku używamy \"dokładności\", czyli procentu poprawnie sklasyfikowanych obrazów, aby zrozumieć, jak często model jest dokładny w swoich przewidywaniach.\n",
        "\n",
        "\n",
        "\n",
        "\n",
        "\n",
        "\n"
      ],
      "metadata": {
        "id": "VKfDIP72Uzpx"
      }
    },
    {
      "cell_type": "code",
      "execution_count": 16,
      "metadata": {
        "id": "5c5pnD1hBWTf"
      },
      "outputs": [],
      "source": [
        "#@title Compiling the model\n",
        "model.compile(loss=\"categorical_crossentropy\", optimizer = \"Adam\", metrics = [\"accuracy\"])"
      ]
    },
    {
      "cell_type": "markdown",
      "source": [
        "##Etap 3 Przygotowanie danych\n",
        "\n"
      ],
      "metadata": {
        "id": "2AXnj69PVg3L"
      }
    },
    {
      "cell_type": "markdown",
      "source": [
        "Ten fragment kodu przygotowuje dane do procesu uczenia.\n",
        "Składa się to z następujących kroków:\n",
        "\n",
        "**1. Augmentacja danych**\n",
        "\n",
        "**ImageDataGenerator** to narzędzie, które przygotowuje i przekształca dane (obrazy), aby zwiększyć różnorodność dostępnych przykładów treningowych poprzez ich modyfikację.\n",
        "\n",
        "Augmentacje włączają:\n",
        "\n",
        "- **rescale = 1./255** - normalizacja wartości pikseli obrazu z zakresu 0-255 do 0-1, co ułatwia przetwarzanie danych przez model.\n",
        "- **rotation_range=25** - obraca obrazy o losowy kąt w zakresie do 25 stopni, aby model nauczył się rozpoznawać obiekty bez względu na ich orientację.\n",
        "- **width_shift_range=0.1, height_shift_range=0.1** - przesuwa obrazy w poziomie i pionie o 10% ich szerokości lub wysokości, co pomaga modelowi nauczyć się, gdzie obiekt może się znajdować na obrazie.\n",
        "- **shear_range=0.2** - stosuje fałszywe pochylenie obrazu, co symuluje różne perspektywy obserwacji obiektu.\n",
        "- **zoom_range=0.2** - losowo powiększa część obrazu, ucząc model rozpoznawania obiektów na różnych poziomach zbliżenia.\n",
        "- **horizontal_flip=True** - odwraca obrazy w poziomie, co jest przydatne, gdy kierunek obiektu nie wpływa na jego klasę.\n",
        "- **fill_mode='nearest'** - sposób wypełniania nowych pikseli, które mogą pojawić się po transformacji obrazu.\n",
        "\n",
        "**2. Generatory danych**\n",
        "\n",
        "**train_generator** i **test_generator** służą do ładowania obrazów z określonych ścieżek (train_path i test_path), przekształcając je do uniformatnego rozmiaru (100x100 pikseli) i formatu (RGB). Generatory te również definiują, jak obrazy będą grupowane w partie (po 32), co jest istotne przy przetwarzaniu większych ilości danych.\n",
        "\n",
        "**3. Klasa obrazów**\n",
        "\n",
        "**class_mode = \"categorical\"** oznacza, że obrazy są klasyfikowane do jednej z wielu kategorii, co jest typowe w zadaniach, gdzie model musi określić, do której z kilku możliwych klas należy dany obraz."
      ],
      "metadata": {
        "id": "g_Jvmtyfb-Up"
      }
    },
    {
      "cell_type": "code",
      "execution_count": null,
      "metadata": {
        "colab": {
          "base_uri": "https://localhost:8080/"
        },
        "id": "0rkXWNz8BYJM",
        "outputId": "20a67d61-fc1d-41da-e416-0de1a233582d"
      },
      "outputs": [
        {
          "output_type": "stream",
          "name": "stdout",
          "text": [
            "Found 24070 images belonging to 2 classes.\n",
            "Found 7276 images belonging to 2 classes.\n",
            "[0 0 0 ... 1 1 1]\n"
          ]
        }
      ],
      "source": [
        "#@title Preparing the dataset\n",
        "train_datagen = ImageDataGenerator(rescale = 1./255,\n",
        "    rotation_range=25,\n",
        "    width_shift_range=0.1,\n",
        "    height_shift_range=0.1,\n",
        "    shear_range=0.2,\n",
        "    zoom_range=0.2,\n",
        "    horizontal_flip=True,\n",
        "    fill_mode='nearest')\n",
        "test_datagen = ImageDataGenerator(rescale = 1./255)\n",
        "\n",
        "train_generator = train_datagen.flow_from_directory(train_path,\n",
        "                                                    target_size=(100,100),\n",
        "                                                    batch_size = 32,\n",
        "                                                    color_mode= \"rgb\",\n",
        "                                                    class_mode = \"categorical\")\n",
        "test_generator = test_datagen.flow_from_directory(test_path,\n",
        "                                                  target_size=(100,100),\n",
        "                                                  batch_size = 32,\n",
        "                                                  color_mode= \"rgb\",\n",
        "                                                  class_mode = \"categorical\")\n",
        "\n",
        "print(test_generator.labels)\n"
      ]
    },
    {
      "cell_type": "markdown",
      "source": [
        "##Etap 4 Trenowanie modelu"
      ],
      "metadata": {
        "id": "Js1jOkPfb1ob"
      }
    },
    {
      "cell_type": "markdown",
      "source": [
        "**Trenowanie modelu** to proces, w którym algorytm uczenia maszynowego iteracyjnie dostosowuje swoje parametry, ucząc się rozpoznawać wzorce z dostarczonych danych.\n",
        "\n",
        "**1. Wczesne zatrzymywanie**\n",
        "\n",
        "**EarlyStopping** jest mechanizmem zapobiegającym nadmiernemu dopasowaniu. Ten mechanizm monitoruje zmiany w wynikach modelu na danych walidacyjnych (testowych).\n",
        "\n",
        "- **monitor='val_loss'** - mówi, że należy monitorować wartość straty na danych walidacyjnych (loss na danych testowych). Strata mierzy, jak bardzo przewidywania modelu różnią się od faktycznych etykiet.\n",
        "- **patience=2** - określa, ile epok bez poprawy wyników model może jeszcze przetrenować zanim zostanie zatrzymany.\n",
        "- **restore_best_weights=True** - jeśli zostanie włączone wczesne zatrzymanie, to ta opcja zapewni, że model wróci do stanu, w którym osiągnął najlepsze wyniki na danych walidacyjnych.\n",
        "\n",
        "**2. Trenowanie modelu**\n",
        "\n",
        "**model.fit** to funkcja, która faktycznie trenuje model na danych.\n",
        "- **x=train_generator** - określa generator danych treningowych jako źródło danych dla modelu. Generator ten automatycznie podaje dane do modelu w partiami.\n",
        "- **steps_per_epoch=len(train_generator)** - mówi, ile partii danych treningowych model powinien przetworzyć w jednej epoce. W praktyce, jest to liczba wszystkich dostępnych próbek podzielona przez rozmiar partii.\n",
        "- **epochs=20** - definiuje, ile razy model powinien przejść przez cały zbiór treningowy.\n",
        "- **validation_data=test_generator** - wskazuje generator danych walidacyjnych (testowych), które są używane do oceny modelu po każdej epoce.\n",
        "- **validation_steps=len(test_generator)** - określa, ile partii danych walidacyjnych należy przetworzyć podczas każdej oceny.\n",
        "- **verbose=1** - ustawienie to kontroluje, jak wiele informacji o procesie treningu jest wyświetlane (1 oznacza, że podstawowe informacje o procesie treningu będą wyświetlane).\n",
        "\n",
        "\n",
        "\n",
        "\n",
        "\n"
      ],
      "metadata": {
        "id": "bA-ZyxAob5_B"
      }
    },
    {
      "cell_type": "code",
      "execution_count": null,
      "metadata": {
        "colab": {
          "base_uri": "https://localhost:8080/"
        },
        "id": "4OYq2AO6BZvQ",
        "outputId": "09b3a97b-302a-4e49-8add-abb2b38ec8dd"
      },
      "outputs": [
        {
          "output_type": "stream",
          "name": "stdout",
          "text": [
            "Epoch 1/20\n",
            "753/753 [==============================] - 883s 1s/step - loss: 0.6665 - accuracy: 0.6282 - val_loss: 0.7907 - val_accuracy: 0.6299\n",
            "Epoch 2/20\n",
            "753/753 [==============================] - 857s 1s/step - loss: 0.5508 - accuracy: 0.7179 - val_loss: 0.6960 - val_accuracy: 0.6461\n",
            "Epoch 3/20\n",
            "753/753 [==============================] - 867s 1s/step - loss: 0.4588 - accuracy: 0.7816 - val_loss: 0.4003 - val_accuracy: 0.8160\n",
            "Epoch 4/20\n",
            "753/753 [==============================] - 868s 1s/step - loss: 0.3931 - accuracy: 0.8213 - val_loss: 0.9250 - val_accuracy: 0.6252\n",
            "Epoch 5/20\n",
            "753/753 [==============================] - 857s 1s/step - loss: 0.3428 - accuracy: 0.8480 - val_loss: 0.5547 - val_accuracy: 0.6873\n",
            "Epoch 6/20\n",
            "753/753 [==============================] - 867s 1s/step - loss: 0.3095 - accuracy: 0.8649 - val_loss: 0.2494 - val_accuracy: 0.8916\n",
            "Epoch 7/20\n",
            "753/753 [==============================] - 882s 1s/step - loss: 0.2867 - accuracy: 0.8767 - val_loss: 0.2385 - val_accuracy: 0.8994\n",
            "Epoch 8/20\n",
            "753/753 [==============================] - 844s 1s/step - loss: 0.2722 - accuracy: 0.8850 - val_loss: 0.2377 - val_accuracy: 0.8979\n",
            "Epoch 9/20\n",
            "753/753 [==============================] - 866s 1s/step - loss: 0.2584 - accuracy: 0.8904 - val_loss: 0.2808 - val_accuracy: 0.8803\n",
            "Epoch 10/20\n",
            "753/753 [==============================] - 842s 1s/step - loss: 0.2450 - accuracy: 0.8960 - val_loss: 0.2632 - val_accuracy: 0.8848\n",
            "Epoch 11/20\n",
            "753/753 [==============================] - 875s 1s/step - loss: 0.2372 - accuracy: 0.8978 - val_loss: 0.1798 - val_accuracy: 0.9244\n",
            "Epoch 12/20\n",
            "753/753 [==============================] - 872s 1s/step - loss: 0.2302 - accuracy: 0.9053 - val_loss: 0.2350 - val_accuracy: 0.9004\n",
            "Epoch 13/20\n",
            "753/753 [==============================] - 865s 1s/step - loss: 0.2227 - accuracy: 0.9061 - val_loss: 0.1948 - val_accuracy: 0.9243\n",
            "Epoch 14/20\n",
            "753/753 [==============================] - 856s 1s/step - loss: 0.2178 - accuracy: 0.9084 - val_loss: 0.2976 - val_accuracy: 0.8693\n",
            "Epoch 15/20\n",
            "753/753 [==============================] - 868s 1s/step - loss: 0.2123 - accuracy: 0.9107 - val_loss: 0.2554 - val_accuracy: 0.8825\n",
            "Epoch 16/20\n",
            "753/753 [==============================] - 839s 1s/step - loss: 0.2014 - accuracy: 0.9147 - val_loss: 0.1557 - val_accuracy: 0.9361\n",
            "Epoch 17/20\n",
            "753/753 [==============================] - 858s 1s/step - loss: 0.2100 - accuracy: 0.9124 - val_loss: 0.1783 - val_accuracy: 0.9245\n",
            "Epoch 18/20\n",
            "753/753 [==============================] - 840s 1s/step - loss: 0.1956 - accuracy: 0.9191 - val_loss: 0.1278 - val_accuracy: 0.9483\n",
            "Epoch 19/20\n",
            "753/753 [==============================] - 845s 1s/step - loss: 0.1888 - accuracy: 0.9205 - val_loss: 0.2344 - val_accuracy: 0.8921\n",
            "Epoch 20/20\n",
            "753/753 [==============================] - 859s 1s/step - loss: 0.1836 - accuracy: 0.9243 - val_loss: 0.2361 - val_accuracy: 0.8997\n"
          ]
        }
      ],
      "source": [
        "#@title Training the model\n",
        "\n",
        "early_stop = EarlyStopping(monitor='val_loss', patience=2, restore_best_weights=True)\n",
        "\n",
        "hist = model.fit(x=train_generator,\n",
        "    steps_per_epoch=len(train_generator),\n",
        "    epochs=20,\n",
        "    validation_data=test_generator,\n",
        "    validation_steps=len(test_generator),\n",
        "    verbose=1)\n",
        "\n",
        "model.save(\"Dogs-vs-Cats.keras\")"
      ]
    },
    {
      "cell_type": "code",
      "execution_count": null,
      "metadata": {
        "id": "rv7yC7EvBbt7",
        "colab": {
          "base_uri": "https://localhost:8080/"
        },
        "outputId": "cb26a0c4-b7de-4ef4-d08b-1ef6f261d749"
      },
      "outputs": [
        {
          "output_type": "stream",
          "name": "stdout",
          "text": [
            "228/228 [==============================] - 69s 300ms/step - loss: 0.2361 - accuracy: 0.8997\n"
          ]
        },
        {
          "output_type": "execute_result",
          "data": {
            "text/plain": [
              "(0.23614037036895752, 0.8996701240539551)"
            ]
          },
          "metadata": {},
          "execution_count": 17
        }
      ],
      "source": [
        "test_loss, test_acc = model.evaluate(test_generator)\n",
        "test_loss, test_acc"
      ]
    },
    {
      "cell_type": "markdown",
      "source": [
        "##Test modelu"
      ],
      "metadata": {
        "id": "sUtRPCp4liBa"
      }
    },
    {
      "cell_type": "code",
      "source": [
        "from keras.preprocessing.image import load_img, img_to_array\n",
        "from keras.models import load_model\n",
        "import numpy as np\n",
        "import matplotlib.pyplot as plt\n",
        "\n",
        "# Path to the saved model\n",
        "model_path = r'/content/Dogs-vs-Cats.keras'\n",
        "\n",
        "# Loading the model\n",
        "model = load_model(model_path)\n",
        "\n",
        "# Function for predicting the image\n",
        "def predict_image(image_path):\n",
        "    # Loading the image and converting it to the correct format\n",
        "    img = load_img(image_path, target_size=(100, 100))\n",
        "    img_array = img_to_array(img)\n",
        "    img_array = np.expand_dims(img_array, axis=0)  # Adding a batch dimension\n",
        "    img_array /= 255.0  # Normalization to the range 0-1\n",
        "\n",
        "    # Predicting the image class\n",
        "    prediction = model.predict(img_array)\n",
        "\n",
        "    # Returning the image class and the confidence percentage\n",
        "    class_index = np.argmax(prediction, axis=1)\n",
        "    confidence = np.max(prediction, axis=1) * 100  # Confidence percentage\n",
        "\n",
        "    if class_index == 0:\n",
        "        return 'Cat', confidence[0]\n",
        "    else:\n",
        "        return 'Dog', confidence[0]\n",
        "\n"
      ],
      "metadata": {
        "id": "Kr4cFe_MXLp6"
      },
      "execution_count": 1,
      "outputs": []
    },
    {
      "cell_type": "code",
      "source": [
        "lila = r'/content/lila.jpg'\n",
        "result, confidence = predict_image(lila)\n",
        "\n",
        "img = load_img(lila, target_size=(100, 100))\n",
        "img_array = img_to_array(img)\n",
        "plt.imshow(img_array/255.0)\n",
        "plt.show()\n",
        "\n",
        "print(f\"Predicted class for the image: {result} with confidence {confidence:.2f}%\")\n"
      ],
      "metadata": {
        "colab": {
          "base_uri": "https://localhost:8080/",
          "height": 468
        },
        "id": "j9tibmmYXpKg",
        "outputId": "d2c01dd2-c23e-4aa2-ad43-2a758621e279"
      },
      "execution_count": 2,
      "outputs": [
        {
          "output_type": "stream",
          "name": "stdout",
          "text": [
            "1/1 [==============================] - 0s 278ms/step\n"
          ]
        },
        {
          "output_type": "display_data",
          "data": {
            "text/plain": [
              "<Figure size 640x480 with 1 Axes>"
            ],
            "image/png": "[encoded data removed]"
          },
          "metadata": {}
        },
        {
          "output_type": "stream",
          "name": "stdout",
          "text": [
            "Predicted class for the image: Dog with confidence 80.04%\n"
          ]
        }
      ]
    },
    {
      "cell_type": "code",
      "source": [
        "lapka = r'/content/łapka.jpg'\n",
        "result, confidence = predict_image(lapka)\n",
        "\n",
        "img = load_img(lapka, target_size=(100, 100))\n",
        "img_array = img_to_array(img)\n",
        "plt.imshow(img_array/255.0)\n",
        "plt.show()\n",
        "\n",
        "print(f\"Predicted class for the image: {result} with confidence {confidence:.2f}%\")"
      ],
      "metadata": {
        "colab": {
          "base_uri": "https://localhost:8080/",
          "height": 468
        },
        "id": "9hrApr1pfmHA",
        "outputId": "201a5eea-533f-4d02-93b4-b4bd97c9553a"
      },
      "execution_count": 3,
      "outputs": [
        {
          "output_type": "stream",
          "name": "stdout",
          "text": [
            "1/1 [==============================] - 0s 26ms/step\n"
          ]
        },
        {
          "output_type": "display_data",
          "data": {
            "text/plain": [
              "<Figure size 640x480 with 1 Axes>"
            ],
            "image/png": "[encoded data removed]"
          },
          "metadata": {}
        },
        {
          "output_type": "stream",
          "name": "stdout",
          "text": [
            "Predicted class for the image: Cat with confidence 98.46%\n"
          ]
        }
      ]
    }
  ],
  "metadata": {
    "colab": {
      "provenance": [],
      "collapsed_sections": [
        "2UlfoGvhPx4I"
      ],
      "authorship_tag": "ABX9TyPDoAbzeFxQTFqI/qHPTJbz",
      "include_colab_link": true
    },
    "kernelspec": {
      "display_name": "Python 3",
      "name": "python3"
    },
    "language_info": {
      "name": "python"
    }
  },
  "nbformat": 4,
  "nbformat_minor": 0
}