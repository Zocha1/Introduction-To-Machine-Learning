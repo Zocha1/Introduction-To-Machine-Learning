{
  "nbformat": 4,
  "nbformat_minor": 0,
  "metadata": {
    "colab": {
      "provenance": [],
      "authorship_tag": "ABX9TyOdT/5QxL47C5zyOGtkrHPF",
      "include_colab_link": true
    },
    "kernelspec": {
      "name": "python3",
      "display_name": "Python 3"
    },
    "language_info": {
      "name": "python"
    }
  },
  "cells": [
    {
      "cell_type": "markdown",
      "metadata": {
        "id": "view-in-github",
        "colab_type": "text"
      },
      "source": [
        "<a href=\"https://colab.research.google.com/github/Zocha1/Introduction-To-Machine-Learning/blob/main/7_ZADANIE_zbi%C3%B3r_REUTERA.ipynb\" target=\"_parent\"><img src=\"https://colab.research.google.com/assets/colab-badge.svg\" alt=\"Open In Colab\"/></a>"
      ]
    },
    {
      "cell_type": "markdown",
      "source": [
        "##**Zadanie**\n",
        "\n",
        "Zaprojektuj prosty model uczenia maszynowego będący przykładem klasyfikacji wieloklasowej - klasyfikacji krótkich artykułów **agencji prasowej Reuter**.\n",
        "\n",
        "Agencja Reuter w 1986r. opublikowała krótkie informacje prasowe dotyczące **46** różnych tematów, każdy element zbioru artykułów może być przypisany tylko do jednej z 46 kategorii (**jednoetykietowa klasyfikacja wieloklasowa**)\n",
        "\n",
        "Zbiór tak jak zbiór recenzji filmowych IMDB jest częścią pakietu Keras. Zawiera on **8982** przykładów treningowych i **2246** przykładów testowych."
      ],
      "metadata": {
        "id": "ph-EJ7Yeo9Co"
      }
    },
    {
      "cell_type": "markdown",
      "source": [
        "###**Etap 1** - Ładowanie zbioru danych\n",
        "\n",
        "\n",
        "\n"
      ],
      "metadata": {
        "id": "lzv_kpxvwfQc"
      }
    },
    {
      "cell_type": "markdown",
      "source": [
        "Załaduj zbiór danych '**reuters**' z '**keras.datasets**'.\n",
        "\n",
        "Ogranicz działania do **10.000 najczęściej występujących słów** w analizowanych zbiorze danych.\n",
        "\n",
        "Ta część jest prawie identycza, jak w przypadku zbioru danych IMDB."
      ],
      "metadata": {
        "id": "XVWGFb-dwpPb"
      }
    },
    {
      "cell_type": "code",
      "execution_count": null,
      "metadata": {
        "id": "ijf4xvYn2ats"
      },
      "outputs": [],
      "source": []
    },
    {
      "cell_type": "markdown",
      "source": [
        "Sprawdź co wyświetli się po wpisaniu poniższych formuł:\n",
        "\n",
        "\n",
        "\n",
        "```\n",
        "# train_data[0]\n",
        "```\n",
        "\n",
        "\n",
        "\n",
        "```\n",
        "# train_labels[46]\n",
        "```\n",
        "\n",
        "\n",
        "\n",
        "```\n",
        "# len(test_data)\n",
        "```\n",
        "\n",
        "\n",
        "```\n",
        "# len(train_data)\n",
        "```\n",
        "\n",
        "\n"
      ],
      "metadata": {
        "id": "b0rb7rt2xN5I"
      }
    },
    {
      "cell_type": "markdown",
      "source": [
        "Możesz również używając kodu z przykładu dotyczącego zbioru IMDB odkodować wybrany artykuł i sprawdzić jego treść. Ma to na celu jedynie zaspokojenie Twojej ciekawości."
      ],
      "metadata": {
        "id": "6phi6BJFxqBT"
      }
    },
    {
      "cell_type": "code",
      "source": [],
      "metadata": {
        "id": "EHOZAqsq7mxw"
      },
      "execution_count": null,
      "outputs": []
    },
    {
      "cell_type": "markdown",
      "source": [
        "###**Etap 2**- Konwersja danych"
      ],
      "metadata": {
        "id": "Kx9c-Ic_x6eM"
      }
    },
    {
      "cell_type": "markdown",
      "source": [
        "Musisz **zamienić dane na wektory**, w tym celu możesz użyć tego samego kodu, jaki był użyty przy przykładzie na zbiorze IMDB.\n",
        "\n",
        "Po zmianie danych możesz wypróbować:\n",
        "\n",
        "\n",
        "```\n",
        "# x_train[0]\n",
        "```\n",
        "\n"
      ],
      "metadata": {
        "id": "eqO8L0KByAK8"
      }
    },
    {
      "cell_type": "code",
      "source": [
        "...\n",
        "\n",
        "x_train = vectorize_sequences(train_data)\n",
        "x_test = vectorize_sequences(test_data)"
      ],
      "metadata": {
        "id": "hleJSdjm4Da5"
      },
      "execution_count": null,
      "outputs": []
    },
    {
      "cell_type": "markdown",
      "source": [
        "Następnie należy na **wektory również zamienić etykiety**. Zrealizuj to poprzez tak zwane **kodowanie z gorącą jedynką**. Polegać ono będzie na osadzeniu każdej etykiety w formie wektora wypełnionego samymi **0**, oprócz miejsca indeksu etykiety, gdzie znajdować się będzie **1**.\n",
        "\n",
        "'**to_categorical**' jest to funkcja używana do przekształcenia etykiet numerycznych w wektory gorącojedynkowe, zadanie możesz zrealizować w poniższy sposób:\n",
        "\n",
        "\n",
        "\n",
        "```\n",
        "# from keras.utils import to_categorical\n",
        "\n",
        "one_hot_train_labels = to_categorical(argument)\n",
        "... analogicznie dla danych testowych...\n",
        "\n",
        "```\n",
        "\n"
      ],
      "metadata": {
        "id": "ozZYpjYOyvYT"
      }
    },
    {
      "cell_type": "code",
      "source": [],
      "metadata": {
        "id": "EUN_LkP94M1N"
      },
      "execution_count": null,
      "outputs": []
    },
    {
      "cell_type": "markdown",
      "source": [
        "###**Etap 3** - Przygotowanie modelu"
      ],
      "metadata": {
        "id": "Qp0_Xm4z1SSd"
      }
    },
    {
      "cell_type": "markdown",
      "source": [
        "W przykładzie IMDB stosowaliśmy warstwy pośrednie 16 wymiarowe, jednak biorąc pod uwagę to, że nasze artykułu mają być podzielone na 46 kategorii przestrzeć 16 wymiarów może okazać się niewystarczająca.\n",
        "\n",
        "Zastosuj następujące warstwy 'Dense'\n",
        "- pierwszą zawierająca **64** ukryte jednostki z określonym kształtem, zawierającą parametr '**input_shape**' oraz funkcję aktywacji '**relu**'\n",
        "- drugą, która z wyjątkiem jednego parametru ma być taka sama jak pierwsza\n",
        "- liczba wymiarów ostatniej warstwy powinna być równa liczbie możliwych kategorii artykułów prasowych oraz zawierać funkcję aktywacji '**softmax**'"
      ],
      "metadata": {
        "id": "dxD2Iylb1YHe"
      }
    },
    {
      "cell_type": "code",
      "source": [
        "from keras import models\n",
        "from keras import layers\n",
        "\n",
        "..."
      ],
      "metadata": {
        "id": "IFyDKob15Ilq"
      },
      "execution_count": null,
      "outputs": []
    },
    {
      "cell_type": "markdown",
      "source": [
        "###**Etap 4** - kompilacja modelu"
      ],
      "metadata": {
        "id": "YMxxHOQl27Fn"
      }
    },
    {
      "cell_type": "markdown",
      "source": [
        "Do kompilacji modelu zastosuj:\n",
        "- optymalizator '**rmsprop**'\n",
        "- funkcję straty '**categorical_crossentropy**', która w sytuacji 46 klas prawdopodbieństwa przynależności artykułu do danej kategorii sprawdzi się najlepiej\n",
        "- metrykę '**accuracy**'"
      ],
      "metadata": {
        "id": "qUyGl6B42_iZ"
      }
    },
    {
      "cell_type": "code",
      "source": [
        "model.compile( ... )"
      ],
      "metadata": {
        "id": "vGRGy9cd5aFL"
      },
      "execution_count": null,
      "outputs": []
    },
    {
      "cell_type": "markdown",
      "source": [
        "###**Etap 5** - przygotowanie zbioru walidacyjnego"
      ],
      "metadata": {
        "id": "c62iwSxS3poG"
      }
    },
    {
      "cell_type": "markdown",
      "source": [
        "Spójrz na ten etap w przykładzie IMDB i odłącz **1000** próbek od treningowego zbioru danych oraz etykiet.\n",
        "\n",
        "\n",
        "\n",
        "```\n",
        "#dane\n",
        "x_val =\n",
        "partial_x_train =\n",
        "\n",
        "#etykiety\n",
        "y_val =\n",
        "partial_y_train =\n",
        "```\n",
        "\n",
        "\n"
      ],
      "metadata": {
        "id": "iveZwe2U4QHy"
      }
    },
    {
      "cell_type": "code",
      "source": [],
      "metadata": {
        "id": "hkQnztLh5uoh"
      },
      "execution_count": null,
      "outputs": []
    },
    {
      "cell_type": "markdown",
      "source": [
        "###**Etap 6** - trenowanie modelu"
      ],
      "metadata": {
        "id": "WmCRSUIM5Gkn"
      }
    },
    {
      "cell_type": "markdown",
      "source": [
        "Liczbę **epok** dobierz eksperymentalnie na podstawie wyniku dokładności '**results**' oraz wykresów '**Strat trenowania i walidacji**' oraz '**Dokładności trenowania i walidacji**', możesz również manipulować parametrem '**batch_size**' zmieniając jego wartość na: 256, 128, 64, 32\n",
        "\n",
        "Do wykonania wykresów możesz użyć kodu z przykładu IMDB.\n",
        "\n",
        "**Twoim zadaniem jest uzyskanie dokładności ('accuracy') na poziomie co najmniej 77%.** Parametr wyświetla się po wykonaniu kodu:\n",
        "\n",
        "\n",
        "```\n",
        "# results = model.evaluate(x_test, one_hot_test_labels)\n",
        "```\n",
        "\n"
      ],
      "metadata": {
        "id": "sEonTr3E5kNs"
      }
    },
    {
      "cell_type": "code",
      "source": [
        "history = model.fit(partial_x_train,\n",
        "                    partial_y_train,\n",
        "                    epochs=???,\n",
        "                    batch_size=512,\n",
        "                    validation_data=(x_val, y_val))"
      ],
      "metadata": {
        "id": "wMANouu266qx"
      },
      "execution_count": null,
      "outputs": []
    },
    {
      "cell_type": "code",
      "source": [
        "results = model.evaluate(x_test, one_hot_test_labels)"
      ],
      "metadata": {
        "id": "MGUqHEhdF_Yl"
      },
      "execution_count": null,
      "outputs": []
    },
    {
      "cell_type": "code",
      "source": [
        "history_dict = history.history\n",
        "history_dict.keys()"
      ],
      "metadata": {
        "id": "SYHjPdADodeV"
      },
      "execution_count": null,
      "outputs": []
    }
  ]
}